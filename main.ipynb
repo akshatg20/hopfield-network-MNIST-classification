{
  "cells": [
    {
      "cell_type": "code",
      "execution_count": null,
      "metadata": {
        "id": "BbLWPH4CMcRu"
      },
      "outputs": [],
      "source": [
        "import numpy as np\n",
        "import matplotlib.pyplot as plt\n",
        "import network, vis, patternLib\n",
        "from tqdm import tqdm\n",
        "from keras.datasets import mnist\n",
        "import random"
      ]
    },
    {
      "cell_type": "markdown",
      "metadata": {
        "id": "p_xltSll1suG"
      },
      "source": [
        "### Load the MNIST dataset"
      ]
    },
    {
      "cell_type": "code",
      "execution_count": null,
      "metadata": {
        "id": "6ZPfXCOSNfuH",
        "colab": {
          "base_uri": "https://localhost:8080/"
        },
        "outputId": "7701af01-91fe-4aaa-889d-d4aeb3eecfc1"
      },
      "outputs": [
        {
          "output_type": "stream",
          "name": "stdout",
          "text": [
            "Downloading data from https://storage.googleapis.com/tensorflow/tf-keras-datasets/mnist.npz\n",
            "\u001b[1m11490434/11490434\u001b[0m \u001b[32m━━━━━━━━━━━━━━━━━━━━\u001b[0m\u001b[37m\u001b[0m \u001b[1m0s\u001b[0m 0us/step\n"
          ]
        }
      ],
      "source": [
        "(x_train, y_train), (x_test, y_test) = mnist.load_data()"
      ]
    },
    {
      "cell_type": "code",
      "execution_count": null,
      "metadata": {
        "id": "a-XI15Zecwmq",
        "colab": {
          "base_uri": "https://localhost:8080/"
        },
        "outputId": "ffd13f39-c726-4bd8-88ac-b9dd44271c50"
      },
      "outputs": [
        {
          "output_type": "stream",
          "name": "stdout",
          "text": [
            "Number of images in train dataset: 60000\n",
            "Number of images in the test dataset: 10000\n"
          ]
        }
      ],
      "source": [
        "n_train = x_train.shape[0]\n",
        "n_test = x_test.shape[0]\n",
        "print(f\"Number of images in train dataset: {n_train}\")\n",
        "print(f\"Number of images in the test dataset: {n_test}\")"
      ]
    },
    {
      "cell_type": "code",
      "execution_count": null,
      "metadata": {
        "colab": {
          "base_uri": "https://localhost:8080/"
        },
        "id": "UhNY5dN5TRch",
        "outputId": "8ce4b3db-7c62-40ea-cd6f-9883105fca8a"
      },
      "outputs": [
        {
          "output_type": "stream",
          "name": "stdout",
          "text": [
            "(60000, 28, 28)\n",
            "(60000,)\n",
            "(10000, 28, 28)\n",
            "(10000,)\n"
          ]
        }
      ],
      "source": [
        "print(x_train.shape)\n",
        "print(y_train.shape)\n",
        "print(x_test.shape)\n",
        "print(y_test.shape)"
      ]
    },
    {
      "cell_type": "markdown",
      "metadata": {
        "id": "Z6VZo-FpyqQ4"
      },
      "source": [
        "Images are currently in the form of 28*28 size matrices"
      ]
    },
    {
      "cell_type": "markdown",
      "metadata": {
        "id": "VI1Zd5nCyqQ4"
      },
      "source": [
        "### Classification using a Hopfield Network"
      ]
    },
    {
      "cell_type": "markdown",
      "metadata": {
        "id": "WNS2vyAmSDGU"
      },
      "source": [
        "**Strategy: Store a pattern for each digit (using the average of train data for each digit, by balanced binarization of pixel values)**"
      ]
    },
    {
      "cell_type": "code",
      "execution_count": null,
      "metadata": {
        "id": "BGplMlWryqQ4"
      },
      "outputs": [],
      "source": [
        "# flatten out the image vectors for preprocessing\n",
        "X_train = x_train.reshape(n_train, 784)\n",
        "X_test = x_test.reshape(n_test, 784)"
      ]
    },
    {
      "cell_type": "code",
      "execution_count": null,
      "metadata": {
        "id": "OdjUXemfyqQ4"
      },
      "outputs": [],
      "source": [
        "# scaling factor to normalize pixel values\n",
        "factor = 2.0 / np.max( X_train )\n",
        "\n",
        "# create an average pattern for each image label (0 to 9)\n",
        "def calculate_avg_classes():\n",
        "    unique_labels = np.unique(y_train)\n",
        "    avg_patterns = []\n",
        "    for l in unique_labels:\n",
        "        class_mean = np.mean(X_train[y_train == l, :], axis=0)\n",
        "        scaled_mean = factor * class_mean - 1.0\n",
        "        avg_patterns.append(scaled_mean)\n",
        "    return np.array(avg_patterns)\n",
        "\n",
        "patterns = calculate_avg_classes()"
      ]
    },
    {
      "cell_type": "code",
      "execution_count": null,
      "metadata": {
        "colab": {
          "base_uri": "https://localhost:8080/"
        },
        "id": "c8qvHvticC5b",
        "outputId": "7efeccbe-3565-451e-c237-c6466c6bc559"
      },
      "outputs": [
        {
          "output_type": "stream",
          "name": "stderr",
          "text": [
            "100%|██████████| 10/10 [00:00<00:00, 3130.08it/s]\n"
          ]
        }
      ],
      "source": [
        "# Convert the patterns to {-1,1} matrices, using balanced binarization\n",
        "low = -1.0\n",
        "high = 1.0\n",
        "iters = 10\n",
        "balance = np.zeros( iters )\n",
        "threshold = np.zeros( iters )\n",
        "\n",
        "for i in tqdm( range( iters ) ):\n",
        "    threshold[ i ] = ( low + high ) / 2\n",
        "    balance[ i ] = np.mean( np.where( patterns < threshold[ i ], -1, 1 ) )\n",
        "    if balance[ i ] > -0.7:\n",
        "        low = threshold[ i ]\n",
        "    else:\n",
        "        high = threshold[ i ]\n",
        "\n",
        "binary_patterns = np.where( patterns < threshold[ -1 ], -1, 1 )\n",
        "\n",
        "# convert the test data to binarized form\n",
        "X_test_binarized = np.where( ( factor * X_test - 1 ) < threshold[ -1 ], -1, 1 )"
      ]
    },
    {
      "cell_type": "code",
      "execution_count": null,
      "metadata": {
        "id": "XMPIDkA4cDm7",
        "colab": {
          "base_uri": "https://localhost:8080/",
          "height": 101
        },
        "outputId": "12b34944-06ff-4ac2-95df-61bde8817067"
      },
      "outputs": [
        {
          "output_type": "display_data",
          "data": {
            "text/plain": [
              "<Figure size 640x480 with 10 Axes>"
            ],
            "image/png": "[encoded data removed]"
          },
          "metadata": {}
        }
      ],
      "source": [
        "# reshape the training pattern list for better visualization\n",
        "plist = list(binary_patterns.reshape(10,28,28))\n",
        "vis.see_pattern_list(plist)"
      ]
    },
    {
      "cell_type": "markdown",
      "metadata": {
        "id": "rDfAx7_vyqQ5"
      },
      "source": [
        "**Hopfield Network Initialization and Training**"
      ]
    },
    {
      "cell_type": "code",
      "execution_count": null,
      "metadata": {
        "id": "rT3CG0beWxxX"
      },
      "outputs": [],
      "source": [
        "# create a hopfield network consisting of 28*28 neurons\n",
        "pattern_size = 28\n",
        "hopfield_net = network.myHopfieldNetwork(pattern_size**2)"
      ]
    },
    {
      "cell_type": "code",
      "execution_count": null,
      "metadata": {
        "id": "KqMqTjHu2eG_"
      },
      "outputs": [],
      "source": [
        "# train the model using the 'pseudo-inverse' rule instead of hebb's rule, as it is more adept at memorizing more number of patterns\n",
        "wgts = hopfield_net.calculate_weights(plist, rule = \"pseudo-inverse\")"
      ]
    },
    {
      "cell_type": "code",
      "execution_count": null,
      "metadata": {
        "id": "fy45GWTL2ugs"
      },
      "outputs": [],
      "source": [
        "# reshape the test data for prediciton using hopfield network\n",
        "test_patterns = X_test_binarized.reshape(n_test,28,28)"
      ]
    },
    {
      "cell_type": "markdown",
      "metadata": {
        "id": "AxyPsSpByqQ6"
      },
      "source": [
        "Retrieval of random test image"
      ]
    },
    {
      "cell_type": "code",
      "execution_count": null,
      "metadata": {
        "colab": {
          "base_uri": "https://localhost:8080/",
          "height": 600
        },
        "id": "6zmeIelMaraU",
        "outputId": "9f612b8b-7a67-43d2-c484-34aff3afab2d"
      },
      "outputs": [
        {
          "output_type": "stream",
          "name": "stdout",
          "text": [
            "\n"
          ]
        },
        {
          "output_type": "display_data",
          "data": {
            "text/plain": [
              "<Figure size 1000x600 with 12 Axes>"
            ],
            "image/png": "[encoded data removed]"
          },
          "metadata": {}
        }
      ],
      "source": [
        "# selecting random image from test data\n",
        "S = random.choice(test_patterns)\n",
        "# store the evolution of states\n",
        "state_list = hopfield_net.network_evolution(S,wgts, 5)\n",
        "# plot the evolution\n",
        "vis.plot_state_sequence_and_overlap(state_list,plist,suptitle=\"Network Dynamics for sample test image\")"
      ]
    },
    {
      "cell_type": "markdown",
      "metadata": {
        "id": "2ISlaYZSyqQ6"
      },
      "source": [
        "The above plot shows the maximum overlap with any particular pattern at each stage of network evolution"
      ]
    },
    {
      "cell_type": "markdown",
      "metadata": {
        "id": "Orl8Jhl0yqQ6"
      },
      "source": [
        "**Test Images Classification**"
      ]
    },
    {
      "cell_type": "markdown",
      "source": [
        "Classification for test data takes about 1 minute"
      ],
      "metadata": {
        "id": "jRBR6PwTz0mD"
      }
    },
    {
      "cell_type": "code",
      "execution_count": null,
      "metadata": {
        "colab": {
          "base_uri": "https://localhost:8080/"
        },
        "id": "XTiaSEIxl8vg",
        "outputId": "e6de5aa3-e9ce-4832-8a1c-c8e7a9a6d589"
      },
      "outputs": [
        {
          "output_type": "stream",
          "name": "stderr",
          "text": [
            "Processing patterns: 100%|██████████| 10000/10000 [01:08<00:00, 146.43it/s]\n"
          ]
        }
      ],
      "source": [
        "# stores the predictions made by hopfield network\n",
        "y_preds = []\n",
        "for i in tqdm(range(len(test_patterns)), desc=\"Processing patterns\"):\n",
        "  # store the network evolution on test_image_{i}\n",
        "  state_list = hopfield_net.network_evolution(test_patterns[i],wgts, 5)\n",
        "  # compute the overlap of the final state with each of the stored patterns\n",
        "  overlap_list = patternLib.compute_overlap_list(state_list[-1], plist)\n",
        "  # classify the image as the index of the stored pattern with the maximum overlap\n",
        "  max_idx = np.argmax(overlap_list)\n",
        "  y_preds.append(max_idx)"
      ]
    },
    {
      "cell_type": "markdown",
      "metadata": {
        "id": "8M16OtQ6yqQ6"
      },
      "source": [
        "**Model Evaluation**"
      ]
    },
    {
      "cell_type": "code",
      "execution_count": null,
      "metadata": {
        "colab": {
          "base_uri": "https://localhost:8080/"
        },
        "id": "1ABCT36nQka5",
        "outputId": "6af52e0e-6dc6-4a55-97c7-c190ec14d683"
      },
      "outputs": [
        {
          "output_type": "stream",
          "name": "stdout",
          "text": [
            "Overall Accuracy: 70.0%\n"
          ]
        }
      ],
      "source": [
        "from sklearn.metrics import accuracy_score\n",
        "overall_accuracy = accuracy_score(y_preds, y_test)\n",
        "print(f'Overall Accuracy: {round(overall_accuracy,2)*100}%')"
      ]
    },
    {
      "cell_type": "code",
      "execution_count": null,
      "metadata": {
        "colab": {
          "base_uri": "https://localhost:8080/"
        },
        "id": "kc3zBiUDQ0vH",
        "outputId": "e9871b6a-05b3-4370-ced2-0d51890619d9"
      },
      "outputs": [
        {
          "output_type": "stream",
          "name": "stdout",
          "text": [
            "              precision    recall  f1-score   support\n",
            "\n",
            "           0       0.94      0.67      0.79       980\n",
            "           1       0.51      0.98      0.67      1135\n",
            "           2       0.87      0.55      0.68      1032\n",
            "           3       0.71      0.70      0.70      1010\n",
            "           4       0.70      0.70      0.70       982\n",
            "           5       0.52      0.55      0.54       892\n",
            "           6       0.83      0.71      0.77       958\n",
            "           7       0.76      0.80      0.78      1028\n",
            "           8       0.81      0.54      0.65       974\n",
            "           9       0.68      0.70      0.69      1009\n",
            "\n",
            "    accuracy                           0.69     10000\n",
            "   macro avg       0.74      0.69      0.70     10000\n",
            "weighted avg       0.73      0.69      0.70     10000\n",
            "\n"
          ]
        }
      ],
      "source": [
        "from sklearn.metrics import classification_report\n",
        "print(classification_report(y_test, y_preds))"
      ]
    },
    {
      "cell_type": "code",
      "execution_count": null,
      "metadata": {
        "id": "7fQWK1C1RKIH"
      },
      "outputs": [],
      "source": []
    }
  ],
  "metadata": {
    "colab": {
      "provenance": []
    },
    "kernelspec": {
      "display_name": "Python 3",
      "name": "python3"
    },
    "language_info": {
      "codemirror_mode": {
        "name": "ipython",
        "version": 3
      },
      "file_extension": ".py",
      "mimetype": "text/x-python",
      "name": "python",
      "nbconvert_exporter": "python",
      "pygments_lexer": "ipython3",
      "version": "3.9.12"
    }
  },
  "nbformat": 4,
  "nbformat_minor": 0
}